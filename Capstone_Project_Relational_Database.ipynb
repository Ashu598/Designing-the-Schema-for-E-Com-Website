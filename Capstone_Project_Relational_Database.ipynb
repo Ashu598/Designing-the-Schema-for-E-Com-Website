{
  "nbformat": 4,
  "nbformat_minor": 0,
  "metadata": {
    "colab": {
      "provenance": [],
      "include_colab_link": true
    },
    "kernelspec": {
      "name": "python3",
      "display_name": "Python 3"
    },
    "language_info": {
      "name": "python"
    }
  },
  "cells": [
    {
      "cell_type": "markdown",
      "metadata": {
        "id": "view-in-github",
        "colab_type": "text"
      },
      "source": [
        "<a href=\"https://colab.research.google.com/github/Ashu598/Designing-the-Schema-for-E-Com-Website/blob/main/Capstone_Project_Relational_Database.ipynb\" target=\"_parent\"><img src=\"https://colab.research.google.com/assets/colab-badge.svg\" alt=\"Open In Colab\"/></a>"
      ]
    },
    {
      "cell_type": "markdown",
      "source": [
        "# Capstone Project :: Relational Database\n",
        "# Contributor : Ashutosh Kumar Singh"
      ],
      "metadata": {
        "id": "ABlqAlyTxfCK"
      }
    },
    {
      "cell_type": "markdown",
      "source": [
        "# **Problem Statement**\n",
        "\n",
        "Welcome to this case study on dissecting and designing products for top leading platforms. In this case study, you will delve into the intriguing world of schema design for a prominent platform of your choice. Your task is to choose a top leading platform, research its features, and meticulously craft a schema design that encapsulates the essence of its functionality. By focusing on key entities, attributes, and relationships, you will gain invaluable insights into how data architecture drives the platform's effectiveness."
      ],
      "metadata": {
        "id": "44x5ByPXyk0q"
      }
    },
    {
      "cell_type": "markdown",
      "source": [
        "# **Amazon's E-commerce Platform Case Study**\n",
        "\n",
        "In this case study, we will dissect and design the schema for a leading e-commerce platform, Amazon. We will analyze its core features, the real-world problems it solves, and create a schema that captures its data structure.\n",
        "\n",
        "## **Step 1: Choose a Leading Platform**\n",
        "We have chosen **Amazon**, a top e-commerce platform, for our case study.\n",
        "\n",
        "Amazon, as a leading e-commerce platform, handles an immense volume of data and transactions daily. To support its vast array of functionalities, Amazon’s database schema must be meticulously designed to ensure efficiency, scalability, and robustness. In this case study, we will dissect Amazon’s core features, the real-world problems it solves, and create a comprehensive schema to capture its data structure.\n",
        "\n",
        "## **Step 2: Research**\n",
        "We have to Investigate its core features, functionalities, and user interactions. Identify the top features that define its user experience and contribute significantly to its popularity.\n",
        "\n",
        "**Core Features of Amazon:**\n",
        "1. **User Accounts**: Allows users to create accounts, log in, and manage their profiles.\n",
        "2. **Product Listings**: A vast catalog of products across various categories.\n",
        "3. **Shopping Cart**: Users can add products to their cart and manage their orders.\n",
        "4. **Orders**: Users can place orders, track shipments, and review past purchases.\n",
        "5. **Reviews and Ratings**: Users can leave reviews and rate products.\n",
        "6. **Payments**: Secure payment processing for orders.\n",
        "7. **Recommendations**: Personalized product recommendations based on user behavior.\n",
        "\n",
        "## **Step 3: Product Dissection and Real World Problems Solved by the Platform**\n",
        "\n",
        "#### Real-World Problems Solved\n",
        "\n",
        "**Real World Problems Solved by Amazon:**\n",
        "1. **Convenience**: Amazon provides a one-stop shop for millions of products, saving users time and effort.\n",
        "2. **Variety and Choice**: Offers an extensive range of products, often more than physical stores.\n",
        "3. **Price Comparison**: Users can compare prices across different sellers.\n",
        "4. **User Reviews**: Provides genuine user feedback, helping customers make informed purchasing decisions.\n",
        "5. **Order Tracking**: Users can track their orders in real-time.\n",
        "6. **Personalized Experience**: Recommends products based on users' past behavior, enhancing the shopping experience.\n",
        "\n",
        "## **Step 4: Case Study on the Real World Problems and Approach to Solving Them**\n",
        "\n",
        "**Problem: Convenience and Variety**\n",
        "Amazon offers a comprehensive shopping experience by providing a vast product catalog, robust search functionality, and user-friendly navigation. This solves the problem of convenience and lack of variety in traditional shopping.\n",
        "\n",
        "**Approach:**\n",
        "- **Product Listings**: Maintains a well-organized product catalog with detailed descriptions, images, and categories.\n",
        "- **Search and Filters**: Implements powerful search algorithms and filtering options to help users find products quickly.\n",
        "\n",
        "**Problem: Informed Purchasing Decisions**\n",
        "Amazon enables users to make informed purchasing decisions through user reviews and ratings, addressing the issue of uncertainty in online shopping.\n",
        "\n",
        "**Approach:**\n",
        "- **User Reviews and Ratings**: Allows users to rate products and leave detailed reviews, which are then displayed prominently on product pages.\n",
        "\n",
        "\n",
        "   \n",
        "\n",
        "   \n",
        "\n",
        "\n",
        "\n",
        "\n",
        "\n",
        "\n",
        "\n",
        "\n",
        "\n"
      ],
      "metadata": {
        "id": "W16i_lhCGsgE"
      }
    },
    {
      "cell_type": "markdown",
      "source": [
        "## **Step 5: Schema Design Based on Top Features**\n",
        "\n",
        "To capture the data structure of Amazon, we will design a database schema incorporating the entities and relationships necessary to support its functionalities.\n",
        "\n",
        "### **Entities and Relationships**\n",
        "\n",
        "\n",
        "\n"
      ],
      "metadata": {
        "id": "RE5HMwSbBmVu"
      }
    },
    {
      "cell_type": "markdown",
      "source": [
        "#### **1.User Entity**\n",
        "- **Table Name**: `user`\n",
        "- **Columns**:\n",
        "  - `user_id` (Primary Key, INT, Auto Increment)\n",
        "  - `name` (VARCHAR)\n",
        "  - `email` (VARCHAR)\n",
        "  - `password` (VARCHAR)\n",
        "  - `address` (VARCHAR)\n",
        "  - `phone_number` (VARCHAR)\n",
        "  - `created_at` (DATETIME)\n",
        "  - `updated_at` (DATETIME)"
      ],
      "metadata": {
        "id": "t99XKCNSDXKq"
      }
    },
    {
      "cell_type": "code",
      "source": [
        "CREATE SCHEMA amazon;\n",
        "USE amazon;\n",
        "CREATE TABLE User (\n",
        "    user_id INT AUTO_INCREMENT PRIMARY KEY,\n",
        "    name VARCHAR(100) NOT NULL,\n",
        "    email VARCHAR(100) NOT NULL UNIQUE,\n",
        "    password VARCHAR(255) NOT NULL,\n",
        "    address VARCHAR(255),\n",
        "    phone_number VARCHAR(15),\n",
        "    created_at TIMESTAMP DEFAULT CURRENT_TIMESTAMP,\n",
        "    updated_at TIMESTAMP DEFAULT CURRENT_TIMESTAMP ON UPDATE CURRENT_TIMESTAMP\n",
        ");\n",
        "\n",
        "--------------------------------------------------------------------------------------------------------------------------------------------------------------------------\n",
        "INSERT INTO User (name, email, password, address, phone_number)\n",
        "VALUES\n",
        "    ('Ravi Mehta', 'dsmfn@example.com', 'password123', '292c Noida UP', '+1234567890'),\n",
        "    ('Karni verma', 'lsjdfk@example.com', 'securepwd456', '264 Noida UP', '+1987654321'),\n",
        "    ('Sajid Sheikh', 'nkjhael.brown@example.com', 'mypass789', '789 Elm Rd, Villagetown', '+1654321876'),\n",
        "    ('Sarah Johnson', 'sarah.johnson@example.com', 'sarahpass', '567 Pine Blvd, Hamlet City', '+1765432198'),\n",
        "    ('Kochar Reddy', 'rxl4ee@example.com', 'kevinpass123', '890 Maple Ln, Hillside Village', '+1543219876'),\n",
        "    ('Harsh Soni', 'son.hxx5@example.com', 'emilypass456', '234 Cedar Dr, Riverside', '+1876543210'),\n",
        "    ('Shashi Munna', 'shadkk55.wilson@example.com', 'davidpass789', '901 Willow Ave, Lakeside', '+1987456321');\n"
      ],
      "metadata": {
        "id": "9IQDrbqbBuV-"
      },
      "execution_count": null,
      "outputs": []
    },
    {
      "cell_type": "markdown",
      "source": [
        "#### **2.Product Entity**\n",
        "- **Table Name**: `product`\n",
        "- **Columns**:\n",
        "  - `product_id` (Primary Key, INT, Auto Increment)\n",
        "  - `name` (VARCHAR)\n",
        "  - `description` (TEXT)\n",
        "  - `price` (DECIMAL)\n",
        "  - `category` (VARCHAR)\n",
        "  - `stock_quantity` (INT)\n",
        "  - `created_at` (DATETIME)"
      ],
      "metadata": {
        "id": "lkLT5nPTBwZF"
      }
    },
    {
      "cell_type": "code",
      "source": [
        "CREATE TABLE Product (\n",
        "    product_id INT AUTO_INCREMENT PRIMARY KEY,\n",
        "    name VARCHAR(100) NOT NULL,\n",
        "    description TEXT,\n",
        "    price DECIMAL(10 , 2 ) NOT NULL,\n",
        "    category VARCHAR(100),\n",
        "    stock_quantity INT NOT NULL,\n",
        "    created_at TIMESTAMP DEFAULT CURRENT_TIMESTAMP,\n",
        "    updated_at TIMESTAMP DEFAULT CURRENT_TIMESTAMP ON UPDATE CURRENT_TIMESTAMP\n",
        ");\n",
        "\n",
        "--------------------------------------------------------------------------------------------------------------------------------------------------------------------------\n",
        "INSERT INTO Product (name, description, price, category, stock_quantity)\n",
        "VALUES\n",
        "    ('Laptop', 'High-performance laptop with 16GB RAM and SSD storage', 1299.99, 'Electronics', 50),\n",
        "    ('Smartphone', 'Latest smartphone with dual cameras and OLED display', 899.99, 'Electronics', 100),\n",
        "    ('Running Shoes', 'Lightweight running shoes for all-terrain use', 99.99, 'Sports', 200),\n",
        "    ('Coffee Maker', 'Automatic coffee maker with programmable settings', 149.50, 'Home & Kitchen', 75),\n",
        "    ('Wireless Earbuds', 'Bluetooth wireless earbuds with noise cancellation', 129.00, 'Electronics', 150),\n",
        "    ('Yoga Mat', 'Eco-friendly yoga mat with non-slip surface', 49.95, 'Sports', 300),\n",
        "    ('Backpack', 'Waterproof backpack with multiple compartments', 79.99, 'Travel', 120);\n"
      ],
      "metadata": {
        "id": "rt5C6cMUB5Mu"
      },
      "execution_count": null,
      "outputs": []
    },
    {
      "cell_type": "markdown",
      "source": [
        "#### **3. Order Entity**\n",
        "- **Table Name**: `order`\n",
        "- **Columns**:\n",
        "  - `order_id` (Primary Key, INT, Auto Increment)\n",
        "  - `user_id` (Foreign Key, INT)\n",
        "  - `order_date` (DATETIME)\n",
        "  - `status` (VARCHAR)\n",
        "  - `total_amount` (DECIMAL)"
      ],
      "metadata": {
        "id": "oselEhUiB59d"
      }
    },
    {
      "cell_type": "code",
      "source": [
        "CREATE TABLE `Order` (\n",
        "    order_id INT AUTO_INCREMENT PRIMARY KEY,\n",
        "    user_id INT NOT NULL,\n",
        "    order_date TIMESTAMP DEFAULT CURRENT_TIMESTAMP,\n",
        "    status VARCHAR(50) NOT NULL,\n",
        "    total_amount DECIMAL(10 , 2 ) NOT NULL,\n",
        "    FOREIGN KEY (user_id)\n",
        "        REFERENCES User (user_id)\n",
        ");\n",
        "\n",
        "--------------------------------------------------------------------------------------------------------------------------------------------------------------------------\n",
        "\n",
        "INSERT INTO `Order` (user_id, status, total_amount)\n",
        "VALUES\n",
        "    (1, 'Pending', 1299.99),\n",
        "    (2, 'Shipped', 899.99),\n",
        "    (3, 'Delivered', 99.99),\n",
        "    (1, 'Pending', 149.50),\n",
        "    (4, 'Shipped', 129.00),\n",
        "    (2, 'Delivered', 49.95),\n",
        "    (3, 'Pending', 79.99);\n"
      ],
      "metadata": {
        "id": "l8VmoCcyCBW1"
      },
      "execution_count": null,
      "outputs": []
    },
    {
      "cell_type": "markdown",
      "source": [
        "\n",
        "#### **4. OrderItem Entity**\n",
        "- **Table Name**: `order_item`\n",
        "- **Columns**:\n",
        "  - `order_item_id` (Primary Key, INT, Auto Increment)\n",
        "  - `order_id` (Foreign Key, INT)\n",
        "  - `product_id` (Foreign Key, INT)\n",
        "  - `quantity` (INT)\n",
        "  - `price` (DECIMAL)\n"
      ],
      "metadata": {
        "id": "xfEhkXHjCIgL"
      }
    },
    {
      "cell_type": "code",
      "source": [
        "CREATE TABLE OrderItem (\n",
        "    order_item_id INT AUTO_INCREMENT PRIMARY KEY,\n",
        "    order_id INT NOT NULL,\n",
        "    product_id INT NOT NULL,\n",
        "    quantity INT NOT NULL,\n",
        "    price DECIMAL(10 , 2 ) NOT NULL,\n",
        "    FOREIGN KEY (order_id)\n",
        "        REFERENCES `Order` (order_id),\n",
        "    FOREIGN KEY (product_id)\n",
        "        REFERENCES Product (product_id)\n",
        ");\n",
        "\n",
        "--------------------------------------------------------------------------------------------------------------------------------------------------------------------------\n",
        "\n",
        "INSERT INTO OrderItem (order_id, product_id, quantity, price)\n",
        "VALUES\n",
        "    (1, 1, 1, 1299.99),\n",
        "    (2, 2, 1, 899.99),\n",
        "    (3, 3, 2, 199.98),\n",
        "    (1, 4, 2, 299.00),\n",
        "    (2, 5, 1, 129.00),\n",
        "    (3, 6, 3, 149.85),\n",
        "    (1, 7, 1, 79.99);\n"
      ],
      "metadata": {
        "id": "JKS2BhaECP3N"
      },
      "execution_count": null,
      "outputs": []
    },
    {
      "cell_type": "markdown",
      "source": [
        "#### **5. Review Entity**\n",
        "- **Table Name**: `review`\n",
        "- **Columns**:\n",
        "  - `review_id` (Primary Key, INT, Auto Increment)\n",
        "  - `user_id` (Foreign Key, INT)\n",
        "  - `product_id` (Foreign Key, INT)\n",
        "  - `rating` (INT)\n",
        "  - `comment` (TEXT)\n",
        "  - `review_date` (DATETIME)"
      ],
      "metadata": {
        "id": "rUV7EBiDCWbP"
      }
    },
    {
      "cell_type": "code",
      "source": [
        "CREATE TABLE Review (\n",
        "    review_id INT AUTO_INCREMENT PRIMARY KEY,\n",
        "    user_id INT NOT NULL,\n",
        "    product_id INT NOT NULL,\n",
        "    rating DECIMAL(2 , 1 ) NOT NULL,\n",
        "    comment TEXT,\n",
        "    review_date TIMESTAMP DEFAULT CURRENT_TIMESTAMP,\n",
        "    FOREIGN KEY (user_id)\n",
        "        REFERENCES User (user_id),\n",
        "    FOREIGN KEY (product_id)\n",
        "        REFERENCES Product (product_id)\n",
        ");\n",
        "\n",
        "--------------------------------------------------------------------------------------------------------------------------------------------------------------------------\n",
        "\n",
        "INSERT INTO Review (user_id, product_id, rating, comment)\n",
        "VALUES\n",
        "    (1, 1, 4.5, 'Great laptop, fast delivery.'),\n",
        "    (2, 2, 4.2, 'Nice smartphone, good camera quality.'),\n",
        "    (3, 3, 3.8, 'Comfortable shoes but took a while to arrive.'),\n",
        "    (1, 4, 4.0, 'Makes great coffee, easy to use.'),\n",
        "    (4, 5, 4.5, 'Excellent sound quality, good battery life.'),\n",
        "    (2, 6, 3.5, 'Good mat, durable material.'),\n",
        "    (3, 7, 4.0, 'Spacious backpack, good for travel.');\n"
      ],
      "metadata": {
        "id": "-cLKo5U9Cdiz"
      },
      "execution_count": null,
      "outputs": []
    },
    {
      "cell_type": "markdown",
      "source": [
        "#### **6. Payment Entity**\n",
        "- **Table Name**: `payment`\n",
        "- **Columns**:\n",
        "  - `payment_id` (Primary Key, INT, Auto Increment)\n",
        "  - `order_id` (Foreign Key, INT)\n",
        "  - `amount` (DECIMAL)\n",
        "  - `payment_method` (VARCHAR)\n",
        "  - `payment_date` (DATETIME)\n"
      ],
      "metadata": {
        "id": "uDwfl7irChGj"
      }
    },
    {
      "cell_type": "code",
      "source": [
        "CREATE TABLE Payment (\n",
        "    payment_id INT AUTO_INCREMENT PRIMARY KEY,\n",
        "    order_id INT NOT NULL,\n",
        "    payment_method VARCHAR(100) NOT NULL,\n",
        "    amount DECIMAL(10, 2) NOT NULL,\n",
        "    payment_date TIMESTAMP DEFAULT CURRENT_TIMESTAMP,\n",
        "    FOREIGN KEY (order_id) REFERENCES `Order`(order_id)\n",
        ");\n",
        "\n",
        "--------------------------------------------------------------------------------------------------------------------------------------------------------------------------\n",
        "\n",
        "INSERT INTO Payment (order_id, payment_method, amount)\n",
        "VALUES\n",
        "    (1, 'Credit Card', 1299.99),\n",
        "    (2, 'PayPal', 899.99),\n",
        "    (3, 'Debit Card', 199.98),\n",
        "    (1, 'Credit Card', 299.00),\n",
        "    (2, 'Credit Card', 129.00),\n",
        "    (3, 'PayPal', 149.85),\n",
        "    (1, 'Debit Card', 79.99);\n"
      ],
      "metadata": {
        "id": "vY-GY7mVCo30"
      },
      "execution_count": null,
      "outputs": []
    },
    {
      "cell_type": "markdown",
      "source": [
        "#### **7. Recommendation Entity**\n",
        "- **Table Name**: `recommendation`\n",
        "- **Columns**:\n",
        "  - `recommendation_id` (Primary Key, INT, Auto Increment)\n",
        "  - `user_id` (Foreign Key, INT)\n",
        "  - `product_id` (Foreign Key, INT)\n",
        "  - `created_at` (DATETIME)\n"
      ],
      "metadata": {
        "id": "zsqigHcjCstr"
      }
    },
    {
      "cell_type": "code",
      "source": [
        "CREATE TABLE Recommendation (\n",
        "    recommendation_id INT AUTO_INCREMENT PRIMARY KEY,\n",
        "    user_id INT NOT NULL,\n",
        "    product_id INT NOT NULL,\n",
        "    recommended_date TIMESTAMP DEFAULT CURRENT_TIMESTAMP,\n",
        "    FOREIGN KEY (user_id) REFERENCES User(user_id),\n",
        "    FOREIGN KEY (product_id) REFERENCES Product(product_id)\n",
        ");\n",
        "\n",
        "--------------------------------------------------------------------------------------------------------------------------------------------------------------------------\n",
        "INSERT INTO Recommendation (user_id, product_id)\n",
        "VALUES\n",
        "    (1, 2),\n",
        "    (2, 1),\n",
        "    (3, 3),\n",
        "    (1, 4),\n",
        "    (4, 6),\n",
        "    (2, 5),\n",
        "    (3, 7);\n"
      ],
      "metadata": {
        "id": "9fGytNWkP12B"
      },
      "execution_count": null,
      "outputs": []
    },
    {
      "cell_type": "markdown",
      "source": [
        "### **Step 6: Rationale Behind the Design**\n",
        "\n",
        "**User Entity**: Central to the schema as all functionalities revolve around user interactions.\n",
        "\n",
        "**Product Entity**: Key to maintaining the vast catalog and ensuring users can access product information easily.\n",
        "\n",
        "**Order and OrderItem Entities**: Necessary to track user purchases and manage order details.\n",
        "\n",
        "**Review Entity**: Critical for maintaining user-generated content that influences purchasing decisions.\n",
        "\n",
        "**Payment Entity**: Essential for tracking payment information and ensuring secure transactions.\n",
        "\n",
        "**Recommendation Entity**: Enhances user experience by providing personalized product suggestions.\n",
        "\n",
        "## **Step 7: Create an ER Diagram**\n",
        "\n",
        "Below is the ER diagram depicting the entities, attributes, and relationships:\n",
        "\n",
        "![fs.png](data:image/png;base64,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)\n",
        "\n",
        "\n",
        "\n",
        "\n",
        "\n",
        "**Above is the ER diagram for the entities described involves visualizing the relationships and attributes that reflect the rationale behind the design.**\n",
        "\n",
        "### Define Relationships\n",
        "   - **User - Order**: One-to-Many (`user.user_id` -> `order.user_id`)\n",
        "   - **Order - OrderItem**: One-to-Many (`order.order_id` -> `order_item.order_id`)\n",
        "   - **Product - OrderItem**: One-to-Many (`product.product_id` -> `order_item.product_id`)\n",
        "   - **User - Review**: One-to-Many (`user.user_id` -> `review.user_id`)\n",
        "   - **Product - Review**: One-to-Many (`product.product_id` -> `review.product_id`)\n",
        "   - **Order - Payment**: One-to-One (`order.order_id` -> `payment.order_id`)\n",
        "   - **User - Recommendation**: One-to-Many (`user.user_id` -> `recommendation.user_id`)\n",
        "   - **Product - Recommendation**: One-to-Many (`product.product_id` -> `recommendation.product_id`)\n",
        "\n",
        "\n",
        "\n",
        "\n",
        "\n",
        "## **Step 8: Presentation of Findings**\n",
        "\n",
        "### Presentation of Findings\n",
        "\n",
        "In this case study, we dissected Amazon, a leading e-commerce platform, and designed a schema to reflect its core features. By examining real-world problems such as convenience, variety, and informed purchasing decisions, we showcased how Amazon's design addresses these issues effectively.\n",
        "\n",
        "The schema design focuses on key entities like User, Product, Order, OrderItem, Review, Payment, and Recommendation, capturing the essential data structure that drives Amazon's functionalities. This design ensures that Amazon can efficiently manage its vast catalog, provide personalized experiences, and facilitate secure transactions.\n",
        "\n",
        "### **Conclusion**\n",
        "\n",
        "Designing a comprehensive schema for Amazon’s e-commerce platform involves careful consideration of the core features and real-world problems the platform addresses. By following the outlined schema, Amazon can maintain a scalable, secure, and efficient database structure that supports its extensive operations and enhances user experience.\n",
        "\n"
      ],
      "metadata": {
        "id": "-xbTeFA-Dmsy"
      }
    },
    {
      "cell_type": "markdown",
      "source": [
        "----------------\n",
        "##**Case Study questions**"
      ],
      "metadata": {
        "id": "5W56cmX4Nz6i"
      }
    },
    {
      "cell_type": "code",
      "source": [
        "----------------------------------------------------------------------------------------------------------------------------------------------\n",
        "/* --------------------\n",
        "   Case Study Questions\n",
        "   --------------------*/\n",
        "-- 1. Retrieve the total number of users registered on the platform.\n",
        "select count(distinct(name)) from User;\n",
        "\n",
        "----------------------------------------------------------------------------------------------------------------------------------------------\n",
        "-- 2. List all users who registered in the last month.\n",
        "SELECT\n",
        "    *\n",
        "FROM\n",
        "    User\n",
        "WHERE\n",
        "    MONTH(created_at) = 7;\n",
        "\n",
        "----------------------------------------------------------------------------------------------------------------------------------------------\n",
        "-- 3. Count the total number of products available in each category\n",
        "SELECT\n",
        "    category, COUNT(*) AS total_products\n",
        "FROM\n",
        "    Product\n",
        "GROUP BY category;\n",
        "\n",
        "----------------------------------------------------------------------------------------------------------------------------------------------\n",
        "-- 4. Find the top 2 categories with the highest average product ratings.\n",
        "SELECT\n",
        "    category, ROUND(AVG(rating), 2) AS avg_rating\n",
        "FROM\n",
        "    Product\n",
        "        INNER JOIN\n",
        "    Review ON Product.product_id = Review.product_id\n",
        "GROUP BY category\n",
        "ORDER BY avg_rating DESC\n",
        "LIMIT 2;\n",
        "\n",
        "----------------------------------------------------------------------------------------------------------------------------------------------\n",
        "-- 5.Identify category  with the highest number of reviews.\n",
        "WITH cte AS (\n",
        "    SELECT  p.product_id, p.category, p.name AS product_name, r.review_id, r.rating\n",
        "    FROM Product p\n",
        "    INNER JOIN Review r ON p.product_id = r.product_id\n",
        ")\n",
        "SELECT category,count(category) as no_of_review\n",
        "FROM cte group by category\n",
        "order by no_of_review desc\n",
        "limit 1;\n",
        "\n",
        "----------------------------------------------------------------------------------------------------------------------------------------------\n",
        " -- 6.Calculate the total revenue generated in the last quarter.\n",
        "SELECT SUM(amount ) as total_reveniew\n",
        "FROM payment\n",
        "WHERE DATE(payment_date) >= DATE_SUB(NOW(), INTERVAL 3 MONTH)\n",
        "AND payment_date < NOW();\n",
        "\n",
        "----------------------------------------------------------------------------------------------------------------------------------------------\n",
        "-- 7. List the top 3 best-selling products by reveniew.\n",
        "select p.`name`, o.price from product p\n",
        "inner join orderitem o on p.product_id = o.product_id order by o.price desc limit 3;\n",
        "\n",
        "----------------------------------------------------------------------------------------------------------------------------------------------\n",
        " -- 8.Calculate the average rating for each product\n",
        "WITH cte AS (\n",
        "    SELECT  p.product_id, p.category, p.name AS product_name, r.review_id, r.rating\n",
        "    FROM Product p\n",
        "    INNER JOIN Review r ON p.product_id = r.product_id\n",
        ")\n",
        "select product_name, avg(rating) as avg_rating from cte\n",
        "group by product_name ;\n",
        "\n",
        "----------------------------------------------------------------------------------------------------------------------------------------------\n",
        "-- 9.Identify users who have left the most reviews\n",
        " select u.name,count(u.name) as total_review from user u\n",
        " inner join review r on u.user_id = r.user_id group by u.name order by total_review desc;\n",
        "\n",
        " ----------------------------------------------------------------------------------------------------------------------------------------------\n",
        " -- 10. Count the number of orders paid using each payment method\n",
        "SELECT payment_method, COUNT(*) AS order_count\n",
        "FROM payment\n",
        "GROUP BY payment_method;\n",
        "\n",
        "----------------------------------------------------------------------------------------------------------------------------------------------\n",
        "-- 11. Calculate the total amount processed through each payment method\n",
        "select payment_method, sum(amount) from payment group by\n",
        "payment_method;\n",
        "\n",
        "----------------------------------------------------------------------------------------------------------------------------------------------\n",
        "-- 12. List products that are frequently recommended to users\n",
        "SELECT product_id, COUNT(*) AS recommendation_count\n",
        "FROM recommendation\n",
        "GROUP BY product_id\n",
        "ORDER BY recommendation_count DESC;\n",
        "\n",
        "----------------------------------------------------------------------------------------------------------------------------------------------\n",
        "-- 13. Determine the average number of orders per user\n",
        "SELECT\n",
        "    o.user_id, u.name, COUNT(o.order_id)\n",
        "FROM\n",
        "    `order` o\n",
        "        INNER JOIN\n",
        "    `user` u ON o.user_id = u.user_id\n",
        "GROUP BY u.name;\n"
      ],
      "metadata": {
        "id": "VorqWbIsBTUT"
      },
      "execution_count": null,
      "outputs": []
    },
    {
      "cell_type": "markdown",
      "source": [
        "#**THANK YOU**"
      ],
      "metadata": {
        "id": "N-FuEBPtPc-X"
      }
    }
  ]
}